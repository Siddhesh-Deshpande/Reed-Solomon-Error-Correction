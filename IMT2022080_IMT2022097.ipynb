{
 "cells": [
  {
   "cell_type": "markdown",
   "metadata": {
    "id": "UVzz3mGA8mI4"
   },
   "source": [
    "\n",
    "# SM404 Assignment\n",
    "---\n",
    "\n",
    "👤 **Name:** Siddhesh Deshpande |\n",
    "🔢 **Roll Number:** IMT2022080\n",
    "\n",
    "---\n",
    "\n",
    "👤 **Name:** Krish Patel|\n",
    "🔢 **Roll Number:** IMT2022097\n",
    "\n",
    "---"
   ]
  },
  {
   "cell_type": "markdown",
   "metadata": {
    "id": "TqfdZrwI8mI5"
   },
   "source": [
    "\n",
    "## Problem Statement: Implementing Integer Version of Reed-Solomon Code\n",
    "---\n",
    "### The Challenge\n",
    "The challenge is to develop a robust implementation of the Integer version of Reed-Solomon code, a powerful error correction code widely used in digital communications and storage systems.\n",
    "\n",
    "\n",
    "### Problem Description\n",
    "Your program should take three inputs :\n",
    "1. A ’message’ `a` to be transmitted as an (large) integer not larger than a given bound *M*.\n",
    "2. Bound *µ* on the maximum fraction of units that can get corrupted during transmission.\n",
    "Consider every integer transmitted as part of the protocol as one ’unit’ of transmission.\n",
    "3. One must be able to ’transmit’ multiple messages `a` with the same *µ, M* (characteristics of\n",
    "the transmission medium and the message domain).\n",
    "\n",
    "### Objectives\n",
    "The main objectives of this problem-solving endeavor are as follows:\n",
    "- To implement the binary version of the EGCD.\n",
    "- CRT using your EGCD implementation above.\n",
    "- Implement the Miller Rabin Test - 2\n",
    "- To generate primes using a readymade random integer generator (from a given range) and testing the primality.\n",
    "- To complete the implementation of the four functions in the skeleton provided.\n",
    "\n",
    "### Constraints\n",
    "- *M* ≡ large integer bound on the message\n",
    "- 0 < *µ* < 1 ≡ corruption fraction\n",
    "- *k* ≡ Number of ’residues’ to be transmitted\n",
    "- *n<sub>1</sub> , . . . , n<sub>k</sub>* ≡ (Small) Primes\n",
    "\n",
    "### Expected Results\n",
    "The objective of the implementation should be to accurately recover the original message at the receiver's end, ensuring that it is identical to the message initially transmitted. This expectation should hold true under all possible theoretical limits and constraints of the input (i.e *µ*, *M*, etc).\n",
    "\n",
    "### Resources\n",
    " [A Computational Introduction to Number Theory and Algebra by Victor Shoup](https://shoup.net/ntb/ntb-v2.pdf)\n"
   ]
  },
  {
   "cell_type": "markdown",
   "metadata": {
    "id": "VddOObtZ8mI6"
   },
   "source": [
    "\n",
    "## Installation\n"
   ]
  },
  {
   "cell_type": "code",
   "execution_count": 1,
   "metadata": {
    "colab": {
     "base_uri": "https://localhost:8080/"
    },
    "id": "C6qG0U9Q9fev",
    "outputId": "6fa26b93-9aef-4b24-c9cf-79091f88991d"
   },
   "outputs": [
    {
     "name": "stdout",
     "output_type": "stream",
     "text": [
      "Defaulting to user installation because normal site-packages is not writeable\n",
      "Requirement already satisfied: gmpy2 in /home/siddhesh/.local/lib/python3.8/site-packages (2.1.5)\n",
      "\n",
      "\u001b[1m[\u001b[0m\u001b[34;49mnotice\u001b[0m\u001b[1;39;49m]\u001b[0m\u001b[39;49m A new release of pip is available: \u001b[0m\u001b[31;49m24.0\u001b[0m\u001b[39;49m -> \u001b[0m\u001b[32;49m24.2\u001b[0m\n",
      "\u001b[1m[\u001b[0m\u001b[34;49mnotice\u001b[0m\u001b[1;39;49m]\u001b[0m\u001b[39;49m To update, run: \u001b[0m\u001b[32;49mpython3 -m pip install --upgrade pip\u001b[0m\n",
      "Defaulting to user installation because normal site-packages is not writeable\n",
      "Requirement already satisfied: matplotlib in /home/siddhesh/.local/lib/python3.8/site-packages (3.7.5)\n",
      "Requirement already satisfied: contourpy>=1.0.1 in /home/siddhesh/.local/lib/python3.8/site-packages (from matplotlib) (1.1.1)\n",
      "Requirement already satisfied: cycler>=0.10 in /home/siddhesh/.local/lib/python3.8/site-packages (from matplotlib) (0.12.1)\n",
      "Requirement already satisfied: fonttools>=4.22.0 in /home/siddhesh/.local/lib/python3.8/site-packages (from matplotlib) (4.51.0)\n",
      "Requirement already satisfied: kiwisolver>=1.0.1 in /home/siddhesh/.local/lib/python3.8/site-packages (from matplotlib) (1.4.5)\n",
      "Requirement already satisfied: numpy<2,>=1.20 in /home/siddhesh/.local/lib/python3.8/site-packages (from matplotlib) (1.24.4)\n",
      "Requirement already satisfied: packaging>=20.0 in /home/siddhesh/.local/lib/python3.8/site-packages (from matplotlib) (23.1)\n",
      "Requirement already satisfied: pillow>=6.2.0 in /usr/lib/python3/dist-packages (from matplotlib) (7.0.0)\n",
      "Requirement already satisfied: pyparsing>=2.3.1 in /home/siddhesh/.local/lib/python3.8/site-packages (from matplotlib) (3.1.2)\n",
      "Requirement already satisfied: python-dateutil>=2.7 in /home/siddhesh/.local/lib/python3.8/site-packages (from matplotlib) (2.8.2)\n",
      "Requirement already satisfied: importlib-resources>=3.2.0 in /home/siddhesh/.local/lib/python3.8/site-packages (from matplotlib) (6.0.1)\n",
      "Requirement already satisfied: zipp>=3.1.0 in /home/siddhesh/.local/lib/python3.8/site-packages (from importlib-resources>=3.2.0->matplotlib) (3.16.2)\n",
      "Requirement already satisfied: six>=1.5 in /usr/lib/python3/dist-packages (from python-dateutil>=2.7->matplotlib) (1.14.0)\n",
      "\n",
      "\u001b[1m[\u001b[0m\u001b[34;49mnotice\u001b[0m\u001b[1;39;49m]\u001b[0m\u001b[39;49m A new release of pip is available: \u001b[0m\u001b[31;49m24.0\u001b[0m\u001b[39;49m -> \u001b[0m\u001b[32;49m24.2\u001b[0m\n",
      "\u001b[1m[\u001b[0m\u001b[34;49mnotice\u001b[0m\u001b[1;39;49m]\u001b[0m\u001b[39;49m To update, run: \u001b[0m\u001b[32;49mpython3 -m pip install --upgrade pip\u001b[0m\n"
     ]
    }
   ],
   "source": [
    "!pip install gmpy2\n",
    "!pip install matplotlib"
   ]
  },
  {
   "cell_type": "markdown",
   "metadata": {
    "id": "CBGxS80e8mI6"
   },
   "source": [
    "## Library Imports"
   ]
  },
  {
   "cell_type": "code",
   "execution_count": 2,
   "metadata": {
    "id": "M8pBfihO8mI7"
   },
   "outputs": [],
   "source": [
    "from gmpy2 import mpz, is_even, is_prime, mpz_random, random_state, ceil, mpfr,powmod,mpz_urandomb,bit_length\n",
    "from datetime import datetime\n",
    "import matplotlib.pyplot as plt\n",
    "import random\n",
    "import math"
   ]
  },
  {
   "cell_type": "markdown",
   "metadata": {
    "id": "XWTO_rzX8mI7"
   },
   "source": [
    "\n",
    "## Binary EGCD\n",
    "\n",
    "Binary Extended GCD (Greatest Common Divisor) is an algorithm used to find the greatest common divisor of two integers and calculate the coefficients that satisfy Bézout's identity. It is an efficient variation of the Extended Euclidean algorithm that uses bitwise operations instead of division and subtraction.\n",
    "\n",
    "The algorithm works by iteratively reducing the two input integers using bitwise operations until they reach their greatest common divisor. It simultaneously calculates the coefficients that satisfy Bézout's identity, which expresses the greatest common divisor as a linear combination of the input integers.\n",
    "\n",
    "> Bézout's Identity:\n",
    "> $$ a * x + b * y = gcd(a, b) $$"
   ]
  },
  {
   "cell_type": "code",
   "execution_count": 3,
   "metadata": {
    "id": "sxFP7PRW8mI8"
   },
   "outputs": [],
   "source": [
    "def ExtendedBinaryGCD(a, b, keep_history = False):\n",
    "    \"\"\"\n",
    "    Calculates the extended binary GCD (Greatest Common Divisor) of two integers.\n",
    "\n",
    "    Args:\n",
    "        a (int): The first integer.\n",
    "        b (int): The second integer.\n",
    "        keep_history (bool, optional): Flag indicating whether to keep a history of intermediate calculations.\n",
    "                                       Defaults to False.\n",
    "\n",
    "    Returns:\n",
    "        tuple: A tuple containing the GCD, and the coefficients (s, t) satisfying the equation a*s + b*t = GCD(a, b).\n",
    "               If keep_history is True, an additional element is included in the tuple, which is a list of tuples\n",
    "               representing the history of intermediate calculations.\n",
    "\n",
    "    Examples:\n",
    "        >>> ExtendedBinaryGCD(24, 36)\n",
    "        (12, 5, -3)\n",
    "        >>> ExtendedBinaryGCD(24, 36, keep_history=True)\n",
    "        (12, 5, -3, [(24, 5, -3), (6, 1, 0), (3, 5, -3)])\n",
    "\n",
    "    \"\"\"\n",
    "    if a < 0:\n",
    "        print(\"ERROR: Value of 'a' less than zero.\")\n",
    "        return -1\n",
    "    elif b < 0:\n",
    "        print(\"ERROR: Value of 'b' less than zero.\")\n",
    "        return -1\n",
    "\n",
    "\n",
    "    r, r1, e, s, s1, t, t1 = mpz(a), mpz(b), mpz(0), mpz(1), mpz(0), mpz(0), mpz(1)\n",
    "\n",
    "    if keep_history:\n",
    "        history = []\n",
    "        history.append((r, s, t))\n",
    "\n",
    "    while r%2 == 0 and r !=0 and r1%2==0 and r1 != 0:\n",
    "        r //= 2\n",
    "        r1 //= 2\n",
    "        e += 1\n",
    "\n",
    "    a1 = r\n",
    "    b1 = r1\n",
    "\n",
    "    while r1 > 0:\n",
    "        if keep_history:\n",
    "            history.append((r, s, t))\n",
    "\n",
    "        while r%2 ==0 and r!=0:\n",
    "            r //= 2\n",
    "            if s%2 ==0 and t%2 == 0:\n",
    "                s //= 2\n",
    "                t //= 2\n",
    "            else:\n",
    "                s = (s+b1)//2\n",
    "                t = (t-a1)//2\n",
    "\n",
    "        while r1%2 ==0 and r1!=0:\n",
    "            r1 //= 2\n",
    "            if s1%2 ==0 and t1%2 == 0:\n",
    "                s1 //= 2\n",
    "                t1 //= 2\n",
    "            else:\n",
    "                s1 = (s1+b1)//2\n",
    "                t1 = (t1-a1)//2\n",
    "\n",
    "        if r1 < r:\n",
    "            r1, r = r, r1\n",
    "            s1, s = s, s1\n",
    "            t1, t = t, t1\n",
    "\n",
    "        r1 = r1 - r\n",
    "        s1 = s1 - s\n",
    "        t1 = t1 - t\n",
    "\n",
    "    if keep_history:\n",
    "        history.append((r, s, t))\n",
    "        return (2**e*r, s, t, history)\n",
    "\n",
    "    return (2**e*r, s, t)"
   ]
  },
  {
   "cell_type": "markdown",
   "metadata": {
    "id": "PBq8LUd88mI8"
   },
   "source": [
    "\n",
    "## Extended GCD\n",
    "\n",
    "The Extended GCD (Greatest Common Divisor) principle, also known as the Extended Euclidean algorithm, is an algorithm used to compute the greatest common divisor of two integers a and b. It extends the basic Euclidean algorithm by finding not only the greatest common divisor but also the coefficients x and y that satisfy Bézout's Identity.\n",
    "\n",
    "> Bézout's Identity:\n",
    "> $$ a * x + b * y = gcd(a, b) $$"
   ]
  },
  {
   "cell_type": "code",
   "execution_count": 4,
   "metadata": {
    "id": "fhFj9tzZ8mI8"
   },
   "outputs": [],
   "source": [
    "def ExtendedGCD(a, b, keep_history = False):\n",
    "    \"\"\"\n",
    "    Calculates the extended Euclidean algorithm to find the greatest common divisor (GCD) and coefficients (s, t)\n",
    "    satisfying the equation a*s + b*t = GCD(a, b).\n",
    "\n",
    "    Args:\n",
    "        a (int): The first integer.\n",
    "        b (int): The second integer.\n",
    "        keep_history (bool, optional): Flag indicating whether to keep a history of intermediate calculations.\n",
    "                                       Defaults to False.\n",
    "\n",
    "    Returns:\n",
    "        tuple: A tuple containing the GCD, and the coefficients (s, t). If keep_history is True, an additional\n",
    "               element is included in the tuple, which is a list of tuples representing the history of intermediate\n",
    "               calculations.\n",
    "\n",
    "    Examples:\n",
    "        >>> ExtendedGCD(24, 36)\n",
    "        (12, -1, 1)\n",
    "        >>> ExtendedGCD(24, 36, keep_history=True)\n",
    "        (12, -1, 1, [(24, 1, 0), (12, -1, 1), (0, 0, 1)])\n",
    "\n",
    "    \"\"\"\n",
    "    if a < 0:\n",
    "        print(\"ERROR: Value of 'a' less than zero.\")\n",
    "        return -1\n",
    "    elif b < 0:\n",
    "        print(\"ERROR: Value of 'b' less than zero.\")\n",
    "        return -1\n",
    "\n",
    "\n",
    "    r, r1, s, s1, t, t1 = mpz(a), mpz(b), mpz(1), mpz(0), mpz(0), mpz(1)\n",
    "\n",
    "    if keep_history:\n",
    "        history = []\n",
    "        history.append((r, s, t))\n",
    "\n",
    "    while r1 != 0:\n",
    "        if keep_history:\n",
    "            history.append((r, s, t))\n",
    "\n",
    "        q = r//r1\n",
    "        r2 = r%r1\n",
    "        r, s, t, r1, s1, t1 = r1, s1, t1, r2, s - s1*q, t - t1*q\n",
    "\n",
    "    d = r\n",
    "\n",
    "    if keep_history:\n",
    "        history.append((r, s, t))\n",
    "        return (d, s, t, history)\n",
    "\n",
    "    return d, s, t"
   ]
  },
  {
   "cell_type": "markdown",
   "metadata": {
    "id": "HUSVDkf98mI9"
   },
   "source": [
    "\n",
    "## Modular Inverse\n",
    "\n",
    "The algorithm computes the modular inverse of an integer b modulo n using the Extended Euclidean algorithm (EGCD).\n",
    "\n",
    "**NOTE:** If the GCD of *b* and *n* is not 1, there is no modular inverse for *b* modulo *n*.\n",
    "\n",
    "**ASSUMPTIONS FOR THIS FUNCTION:** $gcd(b, n) = 1$ $\\implies $ Modular inverse exists.\n",
    "\n",
    "> Let *d*, *s* and *t* be such that $gcd(b, n) = 1$ and $ns + bt = d$\n",
    "> If $gcd(b, n) = 1$, therefore,\n",
    "> $$ ns + bt = 1 $$\n",
    "> $$ \\implies bt \\equiv 1 (mod\\hspace{1.5mm}n) $$\n",
    "> $$ \\implies t \\equiv b^{-1} (mod\\hspace{1.5mm}n) $$"
   ]
  },
  {
   "cell_type": "code",
   "execution_count": 5,
   "metadata": {
    "id": "obiQm9Gu8mI9"
   },
   "outputs": [],
   "source": [
    "def modularInverse(b, n):\n",
    "    \"\"\"\n",
    "    Calculates the modular inverse of an integer b modulo n using the extended binary GCD algorithm.\n",
    "\n",
    "    Args:\n",
    "        b (int): The integer for which the modular inverse is to be calculated.\n",
    "        n (int): The modulus.\n",
    "\n",
    "    Returns:\n",
    "        int: The modular inverse of b modulo n.\n",
    "\n",
    "    Examples:\n",
    "        >>> modularInverse(3, 7)\n",
    "        5\n",
    "        >>> modularInverse(5, 11)\n",
    "        9\n",
    "\n",
    "    \"\"\"\n",
    "    d, _, t = ExtendedBinaryGCD(n, b)\n",
    "    if d != 1:\n",
    "        print(\"ERROR: GCD of b and n not 1. Modular Inverse doesn't exist.\")\n",
    "        return -1\n",
    "    return t % n"
   ]
  },
  {
   "cell_type": "markdown",
   "metadata": {
    "id": "axCOVOGZ8mI9"
   },
   "source": [
    "\n",
    "## Chinese Remainder Theorem\n",
    "\n",
    "Let there be integers *n<sub>1</sub> , . . . , n<sub>k</sub>* and *a<sub>1</sub> , . . . , a<sub>k</sub>* , where the family $\\{n_{i}\\}_{i=1}^{k}$ is pairwise relatively prime, and where $n_{i} > 1$ and $0 ≤ a_{i} < n_{i}$ for $i = 1, . . . , k$, then there exists $a$ such that $a \\equiv a_{i}(mod\\hspace{1.5mm}n_{i})$ for $i = 1,..., k$ and $0 \\leq a < n$ where $n = \\prod\\limits_{i=1}^{k} n_{i}$."
   ]
  },
  {
   "cell_type": "code",
   "execution_count": 6,
   "metadata": {
    "id": "p8LI1bay8mI9"
   },
   "outputs": [],
   "source": [
    "def ChineseRemainder(a_list, n_list):\n",
    "    \"\"\"\n",
    "    Calculates the solution to a system of linear congruences using the Chinese Remainder Theorem.\n",
    "\n",
    "    Args:\n",
    "        a_list (list): List of integers representing the remainders of the congruences.\n",
    "        n_list (list): List of integers representing the moduli of the congruences.\n",
    "\n",
    "    Returns:\n",
    "        int: The solution to the system of congruences.\n",
    "\n",
    "    Examples:\n",
    "        >>> ChineseRemainder([2, 3, 2], [3, 5, 7])\n",
    "        23\n",
    "        >>> ChineseRemainder([1, 2, 3], [2, 3, 5])\n",
    "        23\n",
    "\n",
    "    \"\"\"\n",
    "    if len(a_list) != len(n_list):\n",
    "        print(\"ERROR: Number of ai's not equal to ni's. Please input valid values of ai and ni\")\n",
    "        return -1\n",
    "\n",
    "    for i in range(len(n_list)):\n",
    "        if a_list[i] < 0:\n",
    "            print(\"ERROR: All ai's provided should be positive.\")\n",
    "            return -1\n",
    "\n",
    "\n",
    "    n = mpz(1)\n",
    "    k = len(a_list)\n",
    "\n",
    "    for n_item in n_list:\n",
    "        n *= n_item\n",
    "\n",
    "    e = []\n",
    "\n",
    "    for i in range(0, k):\n",
    "        ni_star = n // n_list[i]\n",
    "        bi = ni_star % n_list[i]\n",
    "        b_inv = modularInverse(bi, n_list[i])\n",
    "        ti = b_inv % n_list[i]\n",
    "        e.append(ni_star * ti)\n",
    "\n",
    "    a = mpz(0)\n",
    "\n",
    "    for i in range(0, k):\n",
    "        a += (a_list[i] * e[i]) % n\n",
    "\n",
    "    return a % n\n"
   ]
  },
  {
   "cell_type": "markdown",
   "metadata": {
    "id": "0TMWLb85_gbr"
   },
   "source": [
    "## Miller Rabin Test\n",
    "We check if the given Number is prime or not and use this for generating prime by repeatedly checking the random generated Number"
   ]
  },
  {
   "cell_type": "code",
   "execution_count": 7,
   "metadata": {
    "id": "_R--z2EF_9Ew"
   },
   "outputs": [],
   "source": [
    "def Miller_Rabin(n):\n",
    "  if n<2:\n",
    "    return False\n",
    "  if n==2 or n==3:\n",
    "    return True\n",
    "  def in_witness_set(n,a,t,h):\n",
    "    b = powmod(a,t,n)\n",
    "    if b==1:\n",
    "      return True\n",
    "    for i in range(h):\n",
    "      if b==n-1:\n",
    "        return True\n",
    "      if b==1:\n",
    "        return False\n",
    "      b=powmod(b,2,n)\n",
    "    return False\n",
    "\n",
    "  x = n-1\n",
    "  h=0\n",
    "  T=100\n",
    "  while(x%2==0):\n",
    "    x//=2\n",
    "    h+=1\n",
    "  t=x\n",
    "  for _ in range(T):\n",
    "    a = random.randint(2,n-1)\n",
    "    # a = mpz_urandomb(2,n)\n",
    "    if not in_witness_set(n,a,t,h):\n",
    "      return False\n",
    "  return True"
   ]
  },
  {
   "cell_type": "markdown",
   "metadata": {
    "id": "1wTpEjD38mI-"
   },
   "source": [
    "## Generating Primes\n",
    "\n",
    "The algoithm generates a number and checks its primality.\n",
    "\n",
    "The algorithm is expected to terminate soon as:\n",
    "> According to Prime Number Theorem (PNT), it is observed that an asymptotic form for the prime counting function pi(n), which counts the number of primes less than some integer n satisfies\n",
    "> $$ \\pi(n) \\sim \\frac{n}{log(n)} $$"
   ]
  },
  {
   "cell_type": "code",
   "execution_count": 8,
   "metadata": {
    "id": "1xjXhi578mI-"
   },
   "outputs": [],
   "source": [
    "def generatePrime(upperBound):\n",
    "    \"\"\"\n",
    "    Generates a prime number within the specified upper bound.\n",
    "\n",
    "    Args:\n",
    "        upperBound (int): The upper bound for generating the prime number.\n",
    "\n",
    "    Returns:\n",
    "        int: A prime number.\n",
    "\n",
    "    Examples:\n",
    "        >>> generatePrime(100)\n",
    "        89\n",
    "        >>> generatePrime(1000)\n",
    "        997\n",
    "\n",
    "    \"\"\"\n",
    "    state = random_state(datetime.now().microsecond)\n",
    "    p = mpz_random(state, upperBound)\n",
    "\n",
    "    while not Miller_Rabin(p):\n",
    "        p = mpz_random(state, upperBound)\n",
    "\n",
    "    return p"
   ]
  },
  {
   "cell_type": "markdown",
   "metadata": {
    "id": "DabN6r4j8mI-"
   },
   "source": [
    "# Implementation"
   ]
  },
  {
   "cell_type": "markdown",
   "metadata": {
    "id": "6AUszb4GBj-C"
   },
   "source": []
  },
  {
   "cell_type": "markdown",
   "metadata": {
    "id": "f5Uy_ERF8mI-"
   },
   "source": [
    "\n",
    "## Global Setup\n",
    "\n",
    "The Global Setup establishes global parameters $k$ and $n$ primes $n_{1}$, ..., $n_{k}$ for both the sender and receiver. These values are shared and known by both parties."
   ]
  },
  {
   "cell_type": "code",
   "execution_count": 9,
   "metadata": {
    "id": "ZK8Ki6ZF8mI-"
   },
   "outputs": [],
   "source": [
    "mu, M, k, primes, P = None, None, None, None, None\n",
    "\n",
    "def globalSetup(_mu, _M, lowerBound = 10**6, upperBound = 10**8, halt_threshold = 5000, print_steps = True):\n",
    "    \"\"\"\n",
    "    Sets up the global variables and generates primes based on the specified parameters.\n",
    "\n",
    "    Args:\n",
    "        _mu (float): The value of mu.\n",
    "        _M (int): The value of M.\n",
    "        lowerBound (int, optional): The lower bound for generating primes. Defaults to 10^6.\n",
    "        upperBound (int, optional): The upper bound for generating primes. Defaults to 10^8.\n",
    "        halt_threshold (int, optional): The threshold for halting if no suitable primes are found. Defaults to 5000.\n",
    "        print_steps (bool, optional): Flag indicating whether to print the intermediate steps. Defaults to True.\n",
    "\n",
    "    Returns:\n",
    "        int: 0 if successful, -1 if no suitable primes were found.\n",
    "\n",
    "    Examples:\n",
    "        >>> globalSetup(0.5, 1000)\n",
    "        Generating primes...\n",
    "        Generated 7 primes of which 3 of them can be corrupted (P = 210)\n",
    "        0\n",
    "        >>> globalSetup(0.6, 200)\n",
    "        Generating primes...\n",
    "        No suitable primes were found for the given values of M and mu\n",
    "        -1\n",
    "\n",
    "    \"\"\"\n",
    "    if _M<=0:\n",
    "        print(\"Input 'M' must be a positive integer\")\n",
    "        return -1\n",
    "    if _mu < 0 or _mu > 1:\n",
    "        print(\"Input 'mu' must be a float between 0 and 1\")\n",
    "        return -1\n",
    "    if upperBound <= 0:\n",
    "        print(\"Input 'upperBound' must be a positive integer\")\n",
    "        return -1\n",
    "    if lowerBound <= 0:\n",
    "        print(\"Input 'lowerBound' must be a positive integer\")\n",
    "        return -1\n",
    "    if halt_threshold <= 0:\n",
    "        print(\"Input 'halt_threshold' must be a positive integer\")\n",
    "        return -1\n",
    "    print_steps and print(\"Generating primes...\")\n",
    "    global mu, M, P, primes, k\n",
    "    mu, M = mpfr(_mu), mpz(_M)\n",
    "    k = mpz(0)\n",
    "    l = mpz(0)\n",
    "    P = 1\n",
    "    primes = []\n",
    "    prod = 1\n",
    "    dup = 0\n",
    "\n",
    "    while prod <= 2*M*P**2 or l == 0:\n",
    "        prime = generatePrime(upperBound)\n",
    "        if prime < lowerBound:\n",
    "            continue\n",
    "        if prime in primes:\n",
    "            dup += 1\n",
    "            if dup > 5000:\n",
    "                print_steps and print(\"No suitable primes were found for the given values of M and mu\")\n",
    "                return -1\n",
    "            continue\n",
    "        k += 1\n",
    "        primes.append(prime)\n",
    "        primes = sorted(primes, reverse=True)\n",
    "        l = mpz(ceil(mu*k))\n",
    "        P = mpz(1)\n",
    "        for i in range(l):\n",
    "            P *= primes[i]\n",
    "        prod *= prime\n",
    "        if k == halt_threshold:\n",
    "            print_steps and print(\"No suitable primes were found for the given values of M and mu\")\n",
    "            return -1\n",
    "\n",
    "    print_steps and print(f\"Generated {k} primes of which {l} of them can be corrupted (P = {P})\")\n",
    "    return 0"
   ]
  },
  {
   "cell_type": "markdown",
   "metadata": {
    "id": "FiTeRVjb8mI_"
   },
   "source": [
    "## Transmit\n",
    "\n",
    "The transmit function generates $b_{i}$'s, which are received by the receiver. These $b_{i}$ values represent the original transmitted messages $a_{i}'s$, but with some degree of corruption based on the specified constraints $μ$ and $k$.\n",
    "\n",
    "> Formally $b_{i}$'s$ satisfies the following conditions:\n",
    "> - $|B| \\leq \\mu * k$, where $|B|$ is the number of corrupted bits.\n",
    "> - Algorithm chooses $l$ random $a_{i}$ where $0 \\leq l \\leq \\mu * k$"
   ]
  },
  {
   "cell_type": "code",
   "execution_count": 10,
   "metadata": {
    "id": "eTd4vWxq8mI_"
   },
   "outputs": [],
   "source": [
    "def Transmit(ai_list, print_steps = True):\n",
    "    \"\"\"\n",
    "    Simulates transmission by corrupting a random number of positions in the input list and generating a new encoding.\n",
    "\n",
    "    Args:\n",
    "        ai_list (list): List of integers representing the original encoding.\n",
    "        print_steps (bool, optional): Flag indicating whether to print the intermediate steps. Defaults to True.\n",
    "\n",
    "    Returns:\n",
    "        list: List of integers representing the new encoding after corruption.\n",
    "\n",
    "    Examples:\n",
    "        >>> Transmit([1, 2, 3, 4, 5])\n",
    "        Corrupting numbers in 2 positions\n",
    "        Generated new encoding\n",
    "        [1, 4, 3, 4, 3]\n",
    "        >>> Transmit([10, 20, 30, 40, 50], print_steps=False)\n",
    "        [10, 20, 30, 40, 50]\n",
    "\n",
    "    \"\"\"\n",
    "    global mu, k, primes\n",
    "\n",
    "    # choose l at random from the range [0, mu.k]\n",
    "    state = random_state(datetime.now().microsecond)\n",
    "    l = mpz_random(state, int(math.floor(mu*k)) + 1)\n",
    "    print_steps and print(f\"Corrupting numbers in {l} positions\")\n",
    "\n",
    "\n",
    "    # picking l indices at random l1, / from [0, k] -> index[]\n",
    "    indexes = []\n",
    "\n",
    "\n",
    "    while len(indexes) < l:\n",
    "        state = random_state(datetime.now().microsecond)\n",
    "        randInd = mpz_random(state, k)\n",
    "        if randInd not in indexes:\n",
    "            indexes.append(randInd)\n",
    "\n",
    "\n",
    "    b_list = []\n",
    "    for i in range(0, k):\n",
    "        if i in indexes:\n",
    "            state = random_state(datetime.now().microsecond)\n",
    "            randNo = mpz_random(state, primes[i])\n",
    "            b_list.append(randNo)\n",
    "        else:\n",
    "            b_list.append(ai_list[i])\n",
    "\n",
    "    print_steps and print(f\"Generated new encoding\")\n",
    "    return b_list\n",
    "\n"
   ]
  },
  {
   "cell_type": "markdown",
   "metadata": {
    "id": "gcPMdR628mI_"
   },
   "source": [
    "\n",
    "## Reed Solomon Send\n",
    "\n",
    "Sends the message `a` to the receiver, by sending $a_{i}$'s generated by doing modular arithmetic on $a$ with the chosen $n_{i}$'s.\n",
    "\n",
    "> Formally:\n",
    "> $$ a_{i} \\equiv a (mod\\hspace{1.5mm} n_{i})\\hspace{1.5mm}\\text{for}\\hspace{1.5mm}i = 1,...,k$$"
   ]
  },
  {
   "cell_type": "code",
   "execution_count": 11,
   "metadata": {
    "id": "xfWmzAtK8mI_"
   },
   "outputs": [],
   "source": [
    "def ReedSolomonSend(a, print_steps = True):\n",
    "    \"\"\"\n",
    "    Sends a message by generating an encoding using the Reed-Solomon code.\n",
    "\n",
    "    Args:\n",
    "        a (int): The message to be sent.\n",
    "        print_steps (bool, optional): Flag indicating whether to print the intermediate steps. Defaults to True.\n",
    "\n",
    "    Returns:\n",
    "        list: List of integers representing the transmitted encoding.\n",
    "\n",
    "    Examples:\n",
    "        >>> ReedSolomonSend(123)\n",
    "        Sending message: 123\n",
    "        Generated an encoding of length 7\n",
    "        Corrupting numbers in 2 positions\n",
    "        Generated new encoding\n",
    "        [123, 77, 123, 116, 97, 123, 100]\n",
    "        >>> ReedSolomonSend(456, print_steps=False)\n",
    "        [456, 275, 456, 367, 456, 456, 456]\n",
    "\n",
    "    \"\"\"\n",
    "    global primes\n",
    "\n",
    "    if a >= M:\n",
    "        print(\"ERROR: Message 'a' exceeds the set integer bound. Input valid value of a.\")\n",
    "        return -1\n",
    "\n",
    "    print_steps and print(f\"Sending message: {a}\")\n",
    "    ai_list = [a % primes[i] for i in range(0, k)]\n",
    "    print_steps and print(f\"Generated an encoding of length {k}\")\n",
    "\n",
    "    b_lst = Transmit(ai_list, print_steps)\n",
    "    return b_lst"
   ]
  },
  {
   "cell_type": "markdown",
   "metadata": {
    "id": "E4vn_AZE8mI_"
   },
   "source": [
    "## Reed Solomon Receive\n",
    "\n",
    "Receives and decodes the corrupted $b_{i}$'s to retrieve the original message `a`."
   ]
  },
  {
   "cell_type": "code",
   "execution_count": 12,
   "metadata": {
    "id": "nFLjxFqK8mJA"
   },
   "outputs": [],
   "source": [
    "def ReedSolomonReceive(bs, print_steps = True):\n",
    "    \"\"\"\n",
    "    Receives and decodes a transmitted message using the Reed-Solomon code.\n",
    "\n",
    "    Args:\n",
    "        bs (list): List of integers representing the received encoding.\n",
    "        print_steps (bool, optional): Flag indicating whether to print the intermediate steps. Defaults to True.\n",
    "\n",
    "    Returns:\n",
    "        int: The recovered message if successful, -1 if unable to recover.\n",
    "\n",
    "    Examples:\n",
    "        >>> ReedSolomonReceive([123, 77, 123, 116, 97, 123, 100])\n",
    "        Recovered the correct message: 123\n",
    "        123\n",
    "        >>> ReedSolomonReceive([456, 275, 456, 367, 456, 456, 456], print_steps=False)\n",
    "        456\n",
    "\n",
    "    \"\"\"\n",
    "    b = ChineseRemainder(bs, primes)\n",
    "    n = mpz(1)\n",
    "\n",
    "    for prime in primes:\n",
    "        n *= prime\n",
    "\n",
    "    _, _, _, history = ExtendedGCD(n, b, keep_history=True)\n",
    "    r_star = M * P\n",
    "    r_dash = None\n",
    "\n",
    "    for tuple in history:\n",
    "        if tuple[0] < r_star:\n",
    "            r_dash, _,t_dash = tuple\n",
    "            break\n",
    "\n",
    "    if r_dash.is_divisible(t_dash):\n",
    "        a = r_dash // t_dash\n",
    "        print_steps and print(f\"Recovered the correct message: {a}\")\n",
    "        return a\n",
    "    else:\n",
    "        print_steps and print(f\"Unable to recover the correct message\")\n",
    "        return -1"
   ]
  },
  {
   "cell_type": "markdown",
   "metadata": {
    "id": "aBhsGfBk8mJA"
   },
   "source": [
    "# Testing"
   ]
  },
  {
   "cell_type": "markdown",
   "metadata": {
    "id": "CeRFn67A8mJA"
   },
   "source": [
    "## Function for Testing Reed-Solomon Operations\n",
    "\n",
    "This function is responsible for testing the encoding, transmission, and decoding of a message by utilizing the functions defined above. It takes the values of `M` and `µ` as required parameters, and also accepts optional parameters for specifying the minimum and maximum bounds on the generated primes, as well as the maximum threshold for prime generation during the `globalSetup` process.\n",
    "\n",
    "Each time this function is called, it generates a random message `a`, where `a` is constrained to be less than `M`. The generated message is then used to perform the encoding, transmission, and subsequent decoding operations."
   ]
  },
  {
   "cell_type": "code",
   "execution_count": 13,
   "metadata": {
    "id": "WZFae3uo8mJA"
   },
   "outputs": [],
   "source": [
    "def ReedSolomonTest(M, mu, primes_max = 10**10, primes_min = 10**8, threshold = 5000, print_steps = True):\n",
    "    \"\"\"\n",
    "    Performs a Reed-Solomon test by simulating the transmission, encoding, and decoding of a message.\n",
    "\n",
    "    Args:\n",
    "        M (int): The maximum value for generating primes and the upper bound for the transmitted message.\n",
    "        mu (float): The corruption ratio.\n",
    "        primes_max (int, optional): The upper bound for generating primes. Defaults to 10**10.\n",
    "        primes_min (int, optional): The lower bound for generating primes. Defaults to 10**8.\n",
    "        threshold (int, optional): The maximum number of iterations for generating suitable primes. Defaults to 5000.\n",
    "        print_steps (bool, optional): Flag indicating whether to print the intermediate steps. Defaults to True.\n",
    "\n",
    "    Returns:\n",
    "        bool: True if the test is successful, False otherwise.\n",
    "\n",
    "    Examples:\n",
    "        >>> ReedSolomonTest(10**6, 0.1)\n",
    "        Sending message: 123\n",
    "        Generated an encoding of length 7\n",
    "        Corrupting numbers in 2 positions\n",
    "        Generated new encoding\n",
    "        Recovered the correct message: 123\n",
    "        Success\n",
    "        True\n",
    "        >>> ReedSolomonTest(10**8, 0.2, primes_max=10**9, primes_min=10**7, threshold=1000, print_steps=False)\n",
    "        True\n",
    "\n",
    "    \"\"\"\n",
    "    upperBound = M\n",
    "    state = random_state(datetime.now().microsecond)\n",
    "    a = mpz_random(state, upperBound)\n",
    "    ret = globalSetup(mu, M, primes_min, primes_max, threshold, print_steps)\n",
    "\n",
    "    if ret < 0:\n",
    "        print_steps and print(\"Failed\\n\")\n",
    "        return False\n",
    "\n",
    "    bs = ReedSolomonSend(a, print_steps)\n",
    "    a1 = ReedSolomonReceive(bs, print_steps)\n",
    "\n",
    "    if a==a1:\n",
    "        print_steps and print(\"Success\\n\")\n",
    "        return True\n",
    "    else:\n",
    "        print_steps and print(\"Failed\\n\")\n",
    "        return False"
   ]
  },
  {
   "cell_type": "markdown",
   "metadata": {
    "id": "ZTA0V6ek8mJA"
   },
   "source": [
    "## Trying the testing function\n",
    "\n",
    "Change the values of `M`, `mu`, `primes_min`, `primes_max` and `threshold`"
   ]
  },
  {
   "cell_type": "code",
   "execution_count": 14,
   "metadata": {
    "colab": {
     "base_uri": "https://localhost:8080/"
    },
    "id": "PDt0fg068mJA",
    "outputId": "ebc731cd-9834-4cb7-d157-a2c77672ebb3"
   },
   "outputs": [
    {
     "name": "stdout",
     "output_type": "stream",
     "text": [
      "Generating primes...\n",
      "Generated 311 primes of which 140 of them can be corrupted (P = 103568899432175949685130436637673705155341964631986937096043700823876884346716911034658703046058417138597692403556040226113956327574571126206394880372714211862175987183533488401004639138940462643555812950087988049913818334265285560602456931073224801909036295760175466566070707455204138892061832012485693722694587138065438157975637045478764856937447258695809562338416882443382398460664221612953908905319693243923004221933699696438605512143989079859939518639274731094044589107199206904881644788300268719800137691842047420376993698036601237111540298921215319058412217203597238348088226998338833018337584709853591728258913080026726629092230984212892085772035182762183278524152856600565684770052087869428625556562551289121523565280123821730189763891062873891890472214695233455585079736069837599588327643955457287984587567480589809871316784516831513618727651282598385379403526623715197234250751645681748226168717999209418154186173214524538070679490396276736761177712097078432365630992859144942377751753574171434481888275002782786102337113746228897422290649439494262618559743201545212473945885163878174940340261140233017766500670650025488419420112971243875627316350980144432782160867489797045832779195217490840667417799779534630201863438165889496968940826432357960557987957037573291228710519625399185698292376344833411008572591714276518542965613084475480939574053287222653583047628661658909)\n",
      "Sending message: 72709296317644904847094034120996208920599879023962149453983495554913269973706177178573686842130882019044323960291683474549773686547690755779869949540621413020925446234565043879457617366750697452525519\n",
      "Generated an encoding of length 311\n",
      "Corrupting numbers in 96 positions\n",
      "Generated new encoding\n",
      "Recovered the correct message: 72709296317644904847094034120996208920599879023962149453983495554913269973706177178573686842130882019044323960291683474549773686547690755779869949540621413020925446234565043879457617366750697452525519\n",
      "Success\n",
      "\n"
     ]
    },
    {
     "data": {
      "text/plain": [
       "True"
      ]
     },
     "execution_count": 14,
     "metadata": {},
     "output_type": "execute_result"
    }
   ],
   "source": [
    "# Change these values to try it for yourself\n",
    "M = 10**200\n",
    "mu = 0.45\n",
    "primes_min = 10**8\n",
    "primes_max = 10**10\n",
    "threshold = 5000\n",
    "\n",
    "ReedSolomonTest(M, mu, primes_max, primes_min, threshold)"
   ]
  },
  {
   "cell_type": "markdown",
   "metadata": {
    "id": "44TBNd6M8mJB"
   },
   "source": [
    "## Function for visualising range of M and µ\n",
    "\n",
    "This function aims to visualize the range of possible values for `M` and `µ` that yield successful results in the above function. It utilizes the matplotlib library to create a scatter plot, where each green dot represents a successful test result with its corresponding `M` and `µ` values, while a red dot represents a failed test.\n",
    "\n",
    "The y-axis of the scatter plot represents the values of `µ`, ranging from 0 to 0.5, while the x-axis represents the logarithm (base 10) of `M`, ranging from 10 to 1000."
   ]
  },
  {
   "cell_type": "code",
   "execution_count": 15,
   "metadata": {
    "id": "b6ZPC-b38mJB"
   },
   "outputs": [],
   "source": [
    "def generateResultPlot(samples, primes_max, primes_min, threshold, mu_generation = 'sequential'):\n",
    "    \"\"\"\n",
    "    Generates a scatter plot of the results from the Reed-Solomon test for different parameters.\n",
    "\n",
    "    Args:\n",
    "        samples (int): The number of samples to generate for each parameter combination.\n",
    "        primes_max (int): The upper bound for generating primes.\n",
    "        primes_min (int): The lower bound for generating primes.\n",
    "        threshold (int): The maximum number of iterations for generating suitable primes.\n",
    "        mu_generation (str, optional): The method for generating mu. Options are 'random' and 'sequential'.\n",
    "            Defaults to 'sequential'.\n",
    "\n",
    "    Returns:\n",
    "        None\n",
    "\n",
    "    Examples:\n",
    "        >>> generateResultPlot(100, 10**10, 10**8, 5000)\n",
    "        [Scatter plot is displayed]\n",
    "\n",
    "    \"\"\"\n",
    "    logMs = [10, 50, 100, 200, 300, 400, 500, 600, 700, 800, 900, 1000]\n",
    "    x, y, c = [], [], []\n",
    "\n",
    "    for logM in logMs:\n",
    "        for i in range(samples):\n",
    "            if mu_generation=='random':\n",
    "                mu = random.random()/2\n",
    "            elif mu_generation=='sequential':\n",
    "                mu = (i+1)/(samples*2)\n",
    "\n",
    "            result = ReedSolomonTest(10**logM, mu, primes_max, primes_min, threshold, False)\n",
    "            x.append(logM)\n",
    "            y.append(mu)\n",
    "\n",
    "            if result:\n",
    "                c.append('green')\n",
    "            else:\n",
    "                c.append('red')\n",
    "\n",
    "    plt.scatter(x, y, c=c, marker='.')\n",
    "    plt.ylabel('µ')\n",
    "    plt.xlabel('No of digits in M')\n",
    "    plt.figtext(0.5, -0.15, f\"samples: {samples}\\nprimes_max: {primes_max}\\nprimes_min: {primes_min}\\nthreshold: {threshold}\", ha=\"center\", bbox={\"facecolor\":\"white\", \"alpha\":0.5, \"pad\":5})\n",
    "    plt.show()"
   ]
  },
  {
   "cell_type": "markdown",
   "metadata": {
    "id": "jQ0b3HV68mJC"
   },
   "source": [
    "## Trying the visualizing function\n",
    "\n",
    "Change the values of `primes_min`, `primes_max` and `threshold`"
   ]
  },
  {
   "cell_type": "code",
   "execution_count": null,
   "metadata": {
    "colab": {
     "base_uri": "https://localhost:8080/",
     "height": 534
    },
    "id": "nkpbD0fi8mJC",
    "outputId": "dcb5c782-af10-4f2c-be28-b0e7574a6888"
   },
   "outputs": [],
   "source": [
    "# Change these values to try it for yourself\n",
    "samples = 50\n",
    "primes_min = 10**4\n",
    "primes_max = 10**6\n",
    "threshold = 1000\n",
    "mu_generation = 'sequential' # also try 'random'\n",
    "\n",
    "generateResultPlot(samples, primes_max, primes_min, threshold, mu_generation)"
   ]
  },
  {
   "cell_type": "markdown",
   "metadata": {
    "id": "X6v2pVeS8mJC"
   },
   "source": [
    "### Observations on the Parameters' Effect on the Range of `M` and `µ`\n",
    "\n",
    "Based on the provided scatter plots, it can be observed that the range of `M` and `µ` tends to increase as the values of the primes used and the threshold increase.\n",
    "\n",
    "#### Effect of Prime Value Range\n",
    "When choosing primes from a smaller range, such as 10^4 to 10^6, the resulting scatter plot shows a relatively smaller range of `M` and `µ`. As the prime value range increases to 10^8 to 10^10, and further to 10^18 to 10^20, the range of `M` and `µ` expands, indicating a broader spectrum of possible values that yield successful test results.\n",
    "\n",
    "- Primes chosen from 10^4 to 10^6, `threshold` = 1000\n",
    "  ![Plot of M vs µ scatter for primes ranging from 10^4 to 10^6](https://firebasestorage.googleapis.com/v0/b/reed-solomon-integer-version.appspot.com/o/10%5E4.png?alt=media&token=bf07f085-3653-4395-ba5c-0d3025fd2525)\n",
    "\n",
    "- Primes chosen from 10^8 to 10^10, `threshold` = 1000\n",
    "  ![Plot of M vs µ scatter for primes ranging from 10^8 to 10^10](https://firebasestorage.googleapis.com/v0/b/reed-solomon-integer-version.appspot.com/o/10%5E8.png?alt=media&token=de837b3a-9fa2-45ae-8374-9bdbb3647f6c)\n",
    "\n",
    "  \n",
    "\n",
    "- Primes chosen from 10^18 to 10^20, `threshold` = 1000\n",
    "  ![Plot of M vs µ scatter for primes ranging from 10^18 to 10^20](https://firebasestorage.googleapis.com/v0/b/reed-solomon-integer-version.appspot.com/o/10%5E18.png?alt=media&token=0c7c65d8-1ec0-4687-9bb8-d9c4942dce24)\n",
    "\n",
    "#### Effect of Threshold Value\n",
    "Increasing the threshold value also contributes to an expanded range of `M` and `µ`. As the threshold increases, more suitable primes are generated during `globalSetup`, allowing for a wider range of values that result in successful tests.\n",
    "\n",
    "- Primes chosen from 10^4 to 10^6, `threshold` = 3000\n",
    "  ![Plot of M vs µ scatter for primes ranging from 10^4 to 10^6](https://firebasestorage.googleapis.com/v0/b/reed-solomon-integer-version.appspot.com/o/10%5E4_3000.png?alt=media&token=2ae40cc1-cd3c-4c46-bab1-32030b297a61)\n",
    "\n",
    "- Primes chosen from 10^18 to 10^20, `threshold` = 3000\n",
    "  ![Plot of M vs µ scatter for primes ranging from 10^18 to 10^20](https://firebasestorage.googleapis.com/v0/b/reed-solomon-integer-version.appspot.com/o/10%5E18_3000.png?alt=media&token=9a119b50-0c80-4987-bb59-709e206316cf)\n"
   ]
  },
  {
   "cell_type": "markdown",
   "metadata": {
    "id": "ik2Z_pha8mJC"
   },
   "source": []
  }
 ],
 "metadata": {
  "colab": {
   "provenance": []
  },
  "kernelspec": {
   "display_name": "Python 3 (ipykernel)",
   "language": "python",
   "name": "python3"
  },
  "language_info": {
   "codemirror_mode": {
    "name": "ipython",
    "version": 3
   },
   "file_extension": ".py",
   "mimetype": "text/x-python",
   "name": "python",
   "nbconvert_exporter": "python",
   "pygments_lexer": "ipython3",
   "version": "3.8.10"
  }
 },
 "nbformat": 4,
 "nbformat_minor": 4
}
